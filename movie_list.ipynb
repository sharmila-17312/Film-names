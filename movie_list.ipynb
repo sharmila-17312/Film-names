{
  "nbformat": 4,
  "nbformat_minor": 0,
  "metadata": {
    "colab": {
      "provenance": []
    },
    "kernelspec": {
      "name": "python3",
      "display_name": "Python 3"
    },
    "language_info": {
      "name": "python"
    }
  },
  "cells": [
    {
      "cell_type": "code",
      "source": [
        "# favorite_movies.py\n",
        "\n",
        "movies = []\n",
        "\n",
        "while True:\n",
        "    action = input(\"Enter action (add/view/quit): \")\n",
        "    if action == \"add\":\n",
        "        movie = input(\"Enter your favorite movie: \")\n",
        "        movies.append(movie)\n",
        "        print(f\"{movie} added to your favorite movies.\")\n",
        "    elif action == \"view\":\n",
        "        print(\"Your favorite movies:\")\n",
        "        for m in movies:\n",
        "            print(m)\n",
        "    elif action == \"quit\":\n",
        "        break\n",
        "    else:\n",
        "        print(\"Invalid action.\")"
      ],
      "metadata": {
        "colab": {
          "base_uri": "https://localhost:8080/"
        },
        "id": "shbMmflzN2lI",
        "outputId": "588cbb61-c042-47bd-a5b5-b732799f0805"
      },
      "execution_count": 7,
      "outputs": [
        {
          "name": "stdout",
          "output_type": "stream",
          "text": [
            "Enter action (add/view/quit): add\n",
            "Enter your favorite movie: sita raman\n",
            "sita raman added to your favorite movies.\n",
            "Enter action (add/view/quit): add\n",
            "Enter your favorite movie: amaran\n",
            "amaran added to your favorite movies.\n",
            "Enter action (add/view/quit): add\n",
            "Enter your favorite movie: Jai Jai\n",
            "Jai Jai added to your favorite movies.\n",
            "Enter action (add/view/quit): Bombay\n",
            "Invalid action.\n",
            "Enter action (add/view/quit): add\n",
            "Enter your favorite movie: Alaipayuthey\n",
            "Alaipayuthey added to your favorite movies.\n",
            "Enter action (add/view/quit): view\n",
            "Your favorite movies:\n",
            "sita raman\n",
            "amaran\n",
            "Jai Jai\n",
            "Alaipayuthey\n",
            "Enter action (add/view/quit): quit\n"
          ]
        }
      ]
    }
  ]
}